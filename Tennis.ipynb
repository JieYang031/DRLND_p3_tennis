{
 "cells": [
  {
   "cell_type": "markdown",
   "metadata": {},
   "source": [
    "# Collaboration and Competition\n",
    "\n",
    "---\n",
    "\n",
    "In this notebook, you will learn how to use the Unity ML-Agents environment for the third project of the [Deep Reinforcement Learning Nanodegree](https://www.udacity.com/course/deep-reinforcement-learning-nanodegree--nd893) program.\n",
    "\n",
    "### 1. Start the Environment\n",
    "\n",
    "We begin by importing the necessary packages.  If the code cell below returns an error, please revisit the project instructions to double-check that you have installed [Unity ML-Agents](https://github.com/Unity-Technologies/ml-agents/blob/master/docs/Installation.md) and [NumPy](http://www.numpy.org/)."
   ]
  },
  {
   "cell_type": "code",
   "execution_count": 1,
   "metadata": {},
   "outputs": [],
   "source": [
    "from unityagents import UnityEnvironment\n",
    "import numpy as np"
   ]
  },
  {
   "cell_type": "markdown",
   "metadata": {},
   "source": [
    "Next, we will start the environment!  **_Before running the code cell below_**, change the `file_name` parameter to match the location of the Unity environment that you downloaded.\n",
    "\n",
    "- **Mac**: `\"path/to/Tennis.app\"`\n",
    "- **Windows** (x86): `\"path/to/Tennis_Windows_x86/Tennis.exe\"`\n",
    "- **Windows** (x86_64): `\"path/to/Tennis_Windows_x86_64/Tennis.exe\"`\n",
    "- **Linux** (x86): `\"path/to/Tennis_Linux/Tennis.x86\"`\n",
    "- **Linux** (x86_64): `\"path/to/Tennis_Linux/Tennis.x86_64\"`\n",
    "- **Linux** (x86, headless): `\"path/to/Tennis_Linux_NoVis/Tennis.x86\"`\n",
    "- **Linux** (x86_64, headless): `\"path/to/Tennis_Linux_NoVis/Tennis.x86_64\"`\n",
    "\n",
    "For instance, if you are using a Mac, then you downloaded `Tennis.app`.  If this file is in the same folder as the notebook, then the line below should appear as follows:\n",
    "```\n",
    "env = UnityEnvironment(file_name=\"Tennis.app\")\n",
    "```"
   ]
  },
  {
   "cell_type": "code",
   "execution_count": 2,
   "metadata": {},
   "outputs": [
    {
     "name": "stderr",
     "output_type": "stream",
     "text": [
      "INFO:unityagents:\n",
      "'Academy' started successfully!\n",
      "Unity Academy name: Academy\n",
      "        Number of Brains: 1\n",
      "        Number of External Brains : 1\n",
      "        Lesson number : 0\n",
      "        Reset Parameters :\n",
      "\t\t\n",
      "Unity brain name: TennisBrain\n",
      "        Number of Visual Observations (per agent): 0\n",
      "        Vector Observation space type: continuous\n",
      "        Vector Observation space size (per agent): 8\n",
      "        Number of stacked Vector Observation: 3\n",
      "        Vector Action space type: continuous\n",
      "        Vector Action space size (per agent): 2\n",
      "        Vector Action descriptions: , \n"
     ]
    }
   ],
   "source": [
    "env = UnityEnvironment(file_name=\"./Tennis_Windows_x86_64/Tennis.exe\")"
   ]
  },
  {
   "cell_type": "markdown",
   "metadata": {},
   "source": [
    "Environments contain **_brains_** which are responsible for deciding the actions of their associated agents. Here we check for the first brain available, and set it as the default brain we will be controlling from Python."
   ]
  },
  {
   "cell_type": "code",
   "execution_count": 3,
   "metadata": {},
   "outputs": [],
   "source": [
    "# get the default brain\n",
    "brain_name = env.brain_names[0]\n",
    "brain = env.brains[brain_name]"
   ]
  },
  {
   "cell_type": "code",
   "execution_count": 4,
   "metadata": {},
   "outputs": [
    {
     "name": "stdout",
     "output_type": "stream",
     "text": [
      "TennisBrain\n"
     ]
    }
   ],
   "source": [
    "print(brain_name)"
   ]
  },
  {
   "cell_type": "markdown",
   "metadata": {},
   "source": [
    "### 2. Examine the State and Action Spaces\n",
    "\n",
    "In this environment, two agents control rackets to bounce a ball over a net. If an agent hits the ball over the net, it receives a reward of +0.1.  If an agent lets a ball hit the ground or hits the ball out of bounds, it receives a reward of -0.01.  Thus, the goal of each agent is to keep the ball in play.\n",
    "\n",
    "The observation space consists of 8?**24?** variables corresponding to the position and velocity of the ball and racket. Two continuous actions are available, corresponding to movement toward (or away from) the net, and jumping. \n",
    "\n",
    "Run the code cell below to print some information about the environment."
   ]
  },
  {
   "cell_type": "code",
   "execution_count": 4,
   "metadata": {},
   "outputs": [
    {
     "name": "stdout",
     "output_type": "stream",
     "text": [
      "Number of agents: 2\n",
      "Size of each action: 2\n",
      "There are 2 agents. Each observes a state with length: 24\n",
      "The state for the first agent looks like: [ 0.          0.          0.          0.          0.          0.\n",
      "  0.          0.          0.          0.          0.          0.\n",
      "  0.          0.          0.          0.         -6.65278625 -1.5\n",
      " -0.          0.          6.83172083  6.         -0.          0.        ]\n"
     ]
    }
   ],
   "source": [
    "# reset the environment\n",
    "env_info = env.reset(train_mode=True)[brain_name]\n",
    "\n",
    "# number of agents \n",
    "num_agents = len(env_info.agents)\n",
    "print('Number of agents:', num_agents)\n",
    "\n",
    "# size of each action\n",
    "action_size = brain.vector_action_space_size\n",
    "print('Size of each action:', action_size)\n",
    "\n",
    "# examine the state space \n",
    "states = env_info.vector_observations\n",
    "state_size = states.shape[1]\n",
    "print('There are {} agents. Each observes a state with length: {}'.format(states.shape[0], state_size))\n",
    "print('The state for the first agent looks like:', states[0])"
   ]
  },
  {
   "cell_type": "code",
   "execution_count": 8,
   "metadata": {},
   "outputs": [
    {
     "data": {
      "text/plain": [
       "(2, 24)"
      ]
     },
     "execution_count": 8,
     "metadata": {},
     "output_type": "execute_result"
    }
   ],
   "source": [
    "states.shape"
   ]
  },
  {
   "cell_type": "markdown",
   "metadata": {},
   "source": [
    "### 3. Take Random Actions in the Environment\n",
    "\n",
    "In the next code cell, you will learn how to use the Python API to control the agents and receive feedback from the environment.\n",
    "\n",
    "Once this cell is executed, you will watch the agents' performance, if they select actions at random with each time step.  A window should pop up that allows you to observe the agents.\n",
    "\n",
    "Of course, as part of the project, you'll have to change the code so that the agents are able to use their experiences to gradually choose better actions when interacting with the environment!"
   ]
  },
  {
   "cell_type": "code",
   "execution_count": 9,
   "metadata": {},
   "outputs": [
    {
     "name": "stdout",
     "output_type": "stream",
     "text": [
      "Score (max over agents) from episode 1: 0.0\n",
      "Score (max over agents) from episode 2: 0.0\n",
      "Score (max over agents) from episode 3: 0.0\n",
      "Score (max over agents) from episode 4: 0.0\n",
      "Score (max over agents) from episode 5: 0.0\n"
     ]
    }
   ],
   "source": [
    "# for i in range(1, 6):                                      # play game for 5 episodes\n",
    "#     env_info = env.reset(train_mode=False)[brain_name]     # reset the environment    \n",
    "#     states = env_info.vector_observations                  # get the current state (for each agent)\n",
    "#     scores = np.zeros(num_agents)                          # initialize the score (for each agent)\n",
    "#     while True:\n",
    "#         actions = np.random.randn(num_agents, action_size) # select an action (for each agent)\n",
    "#         actions = np.clip(actions, -1, 1)                  # all actions between -1 and 1\n",
    "#         env_info = env.step(actions)[brain_name]           # send all actions to tne environment\n",
    "#         next_states = env_info.vector_observations         # get next state (for each agent)\n",
    "#         rewards = env_info.rewards                         # get reward (for each agent)\n",
    "#         dones = env_info.local_done                        # see if episode finished\n",
    "#         scores += env_info.rewards                         # update the score (for each agent)\n",
    "#         states = next_states                               # roll over states to next time step\n",
    "#         if np.any(dones):                                  # exit loop if episode finished\n",
    "#             break\n",
    "#     print('Score (max over agents) from episode {}: {}'.format(i, np.max(scores)))"
   ]
  },
  {
   "cell_type": "markdown",
   "metadata": {},
   "source": [
    "When finished, you can close the environment."
   ]
  },
  {
   "cell_type": "code",
   "execution_count": 10,
   "metadata": {},
   "outputs": [],
   "source": [
    "# env.close()"
   ]
  },
  {
   "cell_type": "markdown",
   "metadata": {},
   "source": [
    "### 4. It's Your Turn!\n",
    "\n",
    "Now it's your turn to train your own agent to solve the environment!  When training the environment, set `train_mode=True`, so that the line for resetting the environment looks like the following:\n",
    "```python\n",
    "env_info = env.reset(train_mode=True)[brain_name]\n",
    "```"
   ]
  },
  {
   "cell_type": "markdown",
   "metadata": {},
   "source": [
    "### import functions"
   ]
  },
  {
   "cell_type": "code",
   "execution_count": 5,
   "metadata": {},
   "outputs": [],
   "source": [
    "import numpy as np\n",
    "import torch\n",
    "import matplotlib.pyplot as plt\n",
    "import time\n",
    "\n",
    "from unityagents import UnityEnvironment\n",
    "from collections import deque\n",
    "from itertools import count\n",
    "import datetime\n",
    "\n",
    "from agent import DDPG, ReplayBuffer"
   ]
  },
  {
   "cell_type": "code",
   "execution_count": 6,
   "metadata": {},
   "outputs": [],
   "source": [
    "BUFFER_SIZE = int(1e6)  # replay buffer size\n",
    "BUFFER_FILL = int(1e4) # How much of the buffer should be filled before learning\n",
    "CACHE_SIZE = int(1e3)\n",
    "NUM_UPDATES_CACHE = 2 # How many times to update from cache buffer\n",
    "BATCH_SIZE = 256        # minibatch size\n",
    "GAMMA = 0.99            # discount factor\n",
    "TAU = 1e-3              # for soft update of target parameters\n",
    "LR_ACTOR = 1e-3         # learning rate of the actor\n",
    "LR_CRITIC = 1e-3        # learning rate of the critic\n",
    "WEIGHT_DECAY = 0        # L2 weight decay\n",
    "UPDATE_EVERY = 20       # timesteps between updates\n",
    "NUM_UPDATES = 15        # num of update passes when updating\n",
    "EPSILON = 1.0           # epsilon for the noise process added to the actions\n",
    "EPSILON_DECAY = 1e-6    # decay for epsilon above\n",
    "NOISE_SIGMA = 0.05\n",
    "\n",
    "fc1_units=96\n",
    "fc2_units=96\n",
    "\n",
    "random_seed=23\n",
    "RECREATE_EVERY=1 # Recreate agent models with new set of random weights"
   ]
  },
  {
   "cell_type": "code",
   "execution_count": 7,
   "metadata": {},
   "outputs": [
    {
     "data": {
      "text/plain": [
       "<function __main__.store(buffers, states, actions, rewards, next_states, dones, timestep)>"
      ]
     },
     "execution_count": 7,
     "metadata": {},
     "output_type": "execute_result"
    }
   ],
   "source": [
    "def store(buffers, states, actions, rewards, next_states, dones, timestep):\n",
    "    memory, cache = buffers\n",
    "    for state, action, reward, next_state, done in zip(states, actions, rewards, next_states, dones):\n",
    "        memory.add(state, action, reward, next_state, done)\n",
    "        cache.add(state, action, reward, next_state, done)\n",
    "store"
   ]
  },
  {
   "cell_type": "code",
   "execution_count": 8,
   "metadata": {},
   "outputs": [
    {
     "data": {
      "text/plain": [
       "<function __main__.learn(agent, buffers, timestep, i_episode)>"
      ]
     },
     "execution_count": 8,
     "metadata": {},
     "output_type": "execute_result"
    }
   ],
   "source": [
    "def learn(agent, buffers, timestep, i_episode):\n",
    "    memory, cache = buffers\n",
    "    if len(memory) > BUFFER_FILL and timestep % UPDATE_EVERY == 0: \n",
    "        for _ in range(NUM_UPDATES):\n",
    "            experiences = memory.sample()\n",
    "            agent.learn(experiences, GAMMA)\n",
    "        for _ in range(NUM_UPDATES_CACHE):\n",
    "            experiences = cache.sample()\n",
    "            agent.learn(experiences, GAMMA)\n",
    "    elif timestep == 0 and i_episode % RECREATE_EVERY == 0:        \n",
    "        agent.reset()\n",
    "    \n",
    "learn"
   ]
  },
  {
   "cell_type": "code",
   "execution_count": 9,
   "metadata": {},
   "outputs": [
    {
     "data": {
      "text/plain": [
       "<function __main__.ddpg(agent, buffers, n_episodes=200, stopOnSolved=True)>"
      ]
     },
     "execution_count": 9,
     "metadata": {},
     "output_type": "execute_result"
    }
   ],
   "source": [
    "avg_over = 100\n",
    "print_every = 10\n",
    "\n",
    "def ddpg(agent, buffers, n_episodes=200, stopOnSolved=True):\n",
    "    print('Start: ',datetime.datetime.now())\n",
    "    scores_deque = deque(maxlen=avg_over)\n",
    "    scores_global = []\n",
    "    average_global = []\n",
    "    min_global = []    \n",
    "    best_avg = -np.inf\n",
    "\n",
    "    tic = time.time()\n",
    "    print('\\rNo,Score,  Avg,  Min, Time, Buffer')\n",
    "    for i_episode in range(1, n_episodes+1):\n",
    "        env_info = env.reset(train_mode=True)[brain_name]      # reset the environment    \n",
    "        states = env_info.vector_observations                  # get the current state (for each agent)\n",
    "        scores = np.zeros(num_agents)                          # initialize the score (for each agent)\n",
    "        agent.reset()\n",
    "        \n",
    "        score_average = 0\n",
    "        timestep = time.time()\n",
    "        for t in count():\n",
    "            actions = agent.act(states, add_noise=True)\n",
    "            env_info = env.step(actions)[brain_name]           # send all actions to tne environment\n",
    "            next_states = env_info.vector_observations         # get next state (for each agent)\n",
    "            rewards = env_info.rewards                         # get reward (for each agent)\n",
    "            dones = env_info.local_done                        # see if episode finished            \n",
    "            store(buffers, states, actions, rewards, next_states, dones, t)\n",
    "            learn(agent, buffers, t, i_episode)\n",
    "            states = next_states                               # roll over states to next time step\n",
    "            scores += rewards                                  # update the score (for each agent)            \n",
    "            if np.any(dones):                                  # exit loop if episode finished\n",
    "                break\n",
    "        \n",
    "        score = np.max(scores)        \n",
    "        scores_deque.append(score)\n",
    "        score_average = np.mean(scores_deque)\n",
    "        scores_global.append(score)\n",
    "        average_global.append(score_average)  \n",
    "        min_global.append(np.min(scores))  \n",
    "        \n",
    "        if i_episode % print_every == 0:\n",
    "            agent.save('./')\n",
    "            print('\\r {}, {:.2f}, {:.2f}, {:.2f}, {:.2f}'\\\n",
    "              .format(str(i_episode).zfill(3), score, score_average, \n",
    "                      np.min(scores), time.time() - timestep), len(buffers[0]), end=\"\\n\")\n",
    "        if  stopOnSolved and score_average > 0.5:            \n",
    "            toc = time.time()\n",
    "            print('\\nSolved in {:d} episodes!\\tAvg Score: {:.2f}, time: {}'.format(i_episode, score_average, toc-tic))\n",
    "            agent.save('./'+str(i_episode)+'_')\n",
    "            break\n",
    "     \n",
    "    print('End: ',datetime.datetime.now())\n",
    "    return scores_global, average_global, min_global\n",
    "\n",
    "ddpg"
   ]
  },
  {
   "cell_type": "code",
   "execution_count": 10,
   "metadata": {},
   "outputs": [
    {
     "name": "stdout",
     "output_type": "stream",
     "text": [
      "Start:  2020-08-01 23:28:17.169887\n",
      "No,Score,  Avg,  Min, Time, Buffer\n",
      " 010, 0.09, 0.05, 0.00, 0.08 436\n",
      " 020, 0.00, 0.03, -0.01, 0.07 846\n",
      " 030, 0.10, 0.04, -0.01, 0.09 1316\n",
      " 040, 0.00, 0.03, -0.01, 0.06 1712\n",
      " 050, 0.00, 0.03, -0.01, 0.07 2118\n",
      " 060, 0.10, 0.03, 0.09, 0.18 2618\n",
      " 070, 0.09, 0.03, 0.00, 0.10 3060\n",
      " 080, 0.00, 0.03, -0.01, 0.08 3526\n",
      " 090, 0.10, 0.03, -0.01, 0.11 3986\n",
      " 100, 0.00, 0.03, -0.01, 0.06 4444\n",
      " 110, 0.00, 0.03, -0.01, 0.08 4918\n",
      " 120, 0.00, 0.03, -0.01, 0.06 5452\n",
      " 130, 0.00, 0.03, -0.01, 0.13 6048\n",
      " 140, 0.00, 0.03, -0.01, 0.09 6434\n",
      " 150, 0.00, 0.03, -0.01, 0.07 6930\n",
      " 160, 0.00, 0.03, -0.01, 0.06 7366\n",
      " 170, 0.00, 0.03, -0.01, 0.06 7816\n",
      " 180, 0.10, 0.03, 0.09, 0.15 8284\n",
      " 190, 0.00, 0.03, -0.01, 0.05 8722\n",
      " 200, 0.10, 0.03, 0.09, 0.15 9266\n",
      " 210, 0.00, 0.03, -0.01, 0.07 9822\n",
      " 220, 0.00, 0.03, -0.01, 0.40 10170\n",
      " 230, 0.00, 0.02, -0.01, 0.40 10454\n",
      " 240, 0.00, 0.02, -0.01, 0.38 10738\n",
      " 250, 0.00, 0.02, -0.01, 0.40 11054\n",
      " 260, 0.00, 0.02, -0.01, 0.39 11370\n",
      " 270, 0.00, 0.01, -0.01, 0.46 11654\n",
      " 280, 0.00, 0.01, -0.01, 0.39 11938\n",
      " 290, 0.00, 0.01, -0.01, 0.40 12222\n",
      " 300, 0.00, 0.01, -0.01, 0.38 12506\n",
      " 310, 0.00, 0.00, -0.01, 0.50 12790\n",
      " 320, 0.00, 0.00, -0.01, 0.41 13074\n",
      " 330, 0.00, 0.00, -0.01, 0.40 13358\n",
      " 340, 0.00, 0.00, -0.01, 0.42 13642\n",
      " 350, 0.00, 0.00, -0.01, 0.41 13926\n",
      " 360, 0.00, 0.00, -0.01, 0.41 14210\n",
      " 370, 0.00, 0.00, -0.01, 0.40 14492\n",
      " 380, 0.00, 0.00, -0.01, 0.40 14776\n",
      " 390, 0.00, 0.00, -0.01, 0.41 15060\n",
      " 400, 0.00, 0.00, -0.01, 0.41 15344\n",
      " 410, 0.00, 0.00, -0.01, 0.40 15664\n",
      " 420, 0.00, 0.00, -0.01, 0.39 15948\n",
      " 430, 0.00, 0.00, -0.01, 0.39 16232\n",
      " 440, 0.00, 0.00, -0.01, 0.40 16516\n",
      " 450, 0.00, 0.00, -0.01, 0.40 16798\n",
      " 460, 0.00, 0.00, -0.01, 0.39 17082\n",
      " 470, 0.00, 0.00, -0.01, 0.43 17404\n",
      " 480, 0.00, 0.00, -0.01, 0.38 17688\n",
      " 490, 0.00, 0.00, -0.01, 0.40 17972\n",
      " 500, 0.00, 0.00, -0.01, 0.39 18256\n",
      " 510, 0.00, 0.00, -0.01, 0.41 18540\n",
      " 520, 0.10, 0.00, -0.01, 0.85 18920\n",
      " 530, 0.00, 0.01, -0.01, 0.41 19306\n",
      " 540, 0.00, 0.01, -0.01, 0.41 19590\n",
      " 550, 0.00, 0.01, -0.01, 0.38 19908\n",
      " 560, 0.00, 0.01, -0.01, 0.37 20222\n",
      " 570, 0.00, 0.01, -0.01, 0.48 20540\n",
      " 580, 0.00, 0.01, -0.01, 0.40 20958\n",
      " 590, 0.00, 0.01, -0.01, 0.40 21318\n",
      " 600, 0.10, 0.02, -0.01, 0.79 21792\n",
      " 610, 0.10, 0.02, -0.01, 0.78 22268\n",
      " 620, 0.00, 0.02, -0.01, 0.43 22766\n",
      " 630, 0.10, 0.03, -0.01, 0.77 23396\n",
      " 640, 0.00, 0.04, -0.01, 0.39 24164\n",
      " 650, 0.30, 0.05, 0.19, 2.40 25062\n",
      " 660, 0.00, 0.06, -0.01, 0.39 26008\n",
      " 670, 0.10, 0.06, -0.01, 0.76 26516\n",
      " 680, 0.00, 0.06, -0.01, 0.44 26882\n",
      " 690, 0.00, 0.06, -0.01, 0.41 27264\n",
      " 700, 0.20, 0.06, 0.19, 1.96 27966\n",
      " 710, 0.10, 0.07, -0.01, 0.74 28894\n",
      " 720, 0.09, 0.08, 0.00, 0.76 30106\n",
      " 730, 2.60, 0.13, 2.60, 20.44 34200\n",
      " 740, 0.60, 0.15, 0.49, 4.65 36426\n",
      " 750, 1.40, 0.23, 1.39, 11.05 43710\n",
      " 760, 0.00, 0.28, -0.01, 0.36 48558\n",
      " 770, 0.00, 0.35, -0.01, 0.40 54296\n",
      " 780, 1.80, 0.44, 1.69, 14.08 61438\n",
      "\n",
      "Solved in 783 episodes!\tAvg Score: 0.52, time: 672.211065530777\n",
      "End:  2020-08-01 23:39:29.390915\n"
     ]
    }
   ],
   "source": [
    "# Create new empty buffers to start training from scratch\n",
    "buffers = [ReplayBuffer(action_size, BUFFER_SIZE, BATCH_SIZE, random_seed),\n",
    "           ReplayBuffer(action_size, CACHE_SIZE, BATCH_SIZE, random_seed)]\n",
    "agent = DDPG(state_size=state_size, action_size=action_size, random_seed=23, \n",
    "              fc1_units=96, fc2_units=96)\n",
    "scores, averages, minima = ddpg(agent, buffers, n_episodes=2000)"
   ]
  },
  {
   "cell_type": "code",
   "execution_count": 12,
   "metadata": {},
   "outputs": [],
   "source": [
    "import pickle\n",
    "pickle.dump(scores, open(\"./scores.pkl\", \"wb\"))"
   ]
  },
  {
   "cell_type": "markdown",
   "metadata": {},
   "source": [
    "### visualize the score"
   ]
  },
  {
   "cell_type": "code",
   "execution_count": 1,
   "metadata": {},
   "outputs": [],
   "source": [
    "import pickle\n",
    "import matplotlib.pyplot as plt\n",
    "scores = pickle.load(open(\"./scores.pkl\", \"rb\"))"
   ]
  },
  {
   "cell_type": "code",
   "execution_count": 2,
   "metadata": {},
   "outputs": [
    {
     "data": {
      "text/plain": [
       "Text(0, 0.5, 'Scores')"
      ]
     },
     "execution_count": 2,
     "metadata": {},
     "output_type": "execute_result"
    },
    {
     "data": {
      "image/png": "[encoded data removed]",
      "text/plain": [
       "<Figure size 432x288 with 1 Axes>"
      ]
     },
     "metadata": {
      "needs_background": "light"
     },
     "output_type": "display_data"
    }
   ],
   "source": [
    "plt.plot(list(range(len(scores))), scores)\n",
    "plt.xlabel(\"episode\")\n",
    "plt.ylabel(\"Scores\")"
   ]
  }
 ],
 "metadata": {
  "kernelspec": {
   "display_name": "Python 3",
   "language": "python",
   "name": "python3"
  },
  "language_info": {
   "codemirror_mode": {
    "name": "ipython",
    "version": 3
   },
   "file_extension": ".py",
   "mimetype": "text/x-python",
   "name": "python",
   "nbconvert_exporter": "python",
   "pygments_lexer": "ipython3",
   "version": "3.6.10"
  }
 },
 "nbformat": 4,
 "nbformat_minor": 2
}
