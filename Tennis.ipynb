{
 "cells": [
  {
   "cell_type": "markdown",
   "metadata": {},
   "source": [
    "# Collaboration and Competition\n",
    "\n",
    "---\n",
    "\n",
    "In this notebook, you will learn how to use the Unity ML-Agents environment for the third project of the [Deep Reinforcement Learning Nanodegree](https://www.udacity.com/course/deep-reinforcement-learning-nanodegree--nd893) program.\n",
    "\n",
    "### 1. Start the Environment\n",
    "\n",
    "We begin by importing the necessary packages.  If the code cell below returns an error, please revisit the project instructions to double-check that you have installed [Unity ML-Agents](https://github.com/Unity-Technologies/ml-agents/blob/master/docs/Installation.md) and [NumPy](http://www.numpy.org/)."
   ]
  },
  {
   "cell_type": "code",
   "execution_count": 1,
   "metadata": {},
   "outputs": [],
   "source": [
    "from unityagents import UnityEnvironment\n",
    "import numpy as np"
   ]
  },
  {
   "cell_type": "markdown",
   "metadata": {},
   "source": [
    "Next, we will start the environment!  **_Before running the code cell below_**, change the `file_name` parameter to match the location of the Unity environment that you downloaded.\n",
    "\n",
    "- **Mac**: `\"path/to/Tennis.app\"`\n",
    "- **Windows** (x86): `\"path/to/Tennis_Windows_x86/Tennis.exe\"`\n",
    "- **Windows** (x86_64): `\"path/to/Tennis_Windows_x86_64/Tennis.exe\"`\n",
    "- **Linux** (x86): `\"path/to/Tennis_Linux/Tennis.x86\"`\n",
    "- **Linux** (x86_64): `\"path/to/Tennis_Linux/Tennis.x86_64\"`\n",
    "- **Linux** (x86, headless): `\"path/to/Tennis_Linux_NoVis/Tennis.x86\"`\n",
    "- **Linux** (x86_64, headless): `\"path/to/Tennis_Linux_NoVis/Tennis.x86_64\"`\n",
    "\n",
    "For instance, if you are using a Mac, then you downloaded `Tennis.app`.  If this file is in the same folder as the notebook, then the line below should appear as follows:\n",
    "```\n",
    "env = UnityEnvironment(file_name=\"Tennis.app\")\n",
    "```"
   ]
  },
  {
   "cell_type": "code",
   "execution_count": 2,
   "metadata": {},
   "outputs": [
    {
     "name": "stderr",
     "output_type": "stream",
     "text": [
      "INFO:unityagents:\n",
      "'Academy' started successfully!\n",
      "Unity Academy name: Academy\n",
      "        Number of Brains: 1\n",
      "        Number of External Brains : 1\n",
      "        Lesson number : 0\n",
      "        Reset Parameters :\n",
      "\t\t\n",
      "Unity brain name: TennisBrain\n",
      "        Number of Visual Observations (per agent): 0\n",
      "        Vector Observation space type: continuous\n",
      "        Vector Observation space size (per agent): 8\n",
      "        Number of stacked Vector Observation: 3\n",
      "        Vector Action space type: continuous\n",
      "        Vector Action space size (per agent): 2\n",
      "        Vector Action descriptions: , \n"
     ]
    }
   ],
   "source": [
    "env = UnityEnvironment(file_name=\"./Tennis_Windows_x86_64/Tennis.exe\")"
   ]
  },
  {
   "cell_type": "markdown",
   "metadata": {},
   "source": [
    "Environments contain **_brains_** which are responsible for deciding the actions of their associated agents. Here we check for the first brain available, and set it as the default brain we will be controlling from Python."
   ]
  },
  {
   "cell_type": "code",
   "execution_count": 3,
   "metadata": {},
   "outputs": [],
   "source": [
    "# get the default brain\n",
    "brain_name = env.brain_names[0]\n",
    "brain = env.brains[brain_name]"
   ]
  },
  {
   "cell_type": "code",
   "execution_count": 4,
   "metadata": {},
   "outputs": [
    {
     "name": "stdout",
     "output_type": "stream",
     "text": [
      "TennisBrain\n"
     ]
    }
   ],
   "source": [
    "print(brain_name)"
   ]
  },
  {
   "cell_type": "markdown",
   "metadata": {},
   "source": [
    "### 2. Examine the State and Action Spaces\n",
    "\n",
    "In this environment, two agents control rackets to bounce a ball over a net. If an agent hits the ball over the net, it receives a reward of +0.1.  If an agent lets a ball hit the ground or hits the ball out of bounds, it receives a reward of -0.01.  Thus, the goal of each agent is to keep the ball in play.\n",
    "\n",
    "The observation space consists of 8?**24?** variables corresponding to the position and velocity of the ball and racket. Two continuous actions are available, corresponding to movement toward (or away from) the net, and jumping. \n",
    "\n",
    "Run the code cell below to print some information about the environment."
   ]
  },
  {
   "cell_type": "code",
   "execution_count": 5,
   "metadata": {},
   "outputs": [
    {
     "name": "stdout",
     "output_type": "stream",
     "text": [
      "Number of agents: 2\n",
      "Size of each action: 2\n",
      "There are 2 agents. Each observes a state with length: 24\n",
      "The state for the first agent looks like: [ 0.          0.          0.          0.          0.          0.\n",
      "  0.          0.          0.          0.          0.          0.\n",
      "  0.          0.          0.          0.         -6.65278625 -1.5\n",
      " -0.          0.          6.83172083  6.         -0.          0.        ]\n"
     ]
    }
   ],
   "source": [
    "# reset the environment\n",
    "env_info = env.reset(train_mode=True)[brain_name]\n",
    "\n",
    "# number of agents \n",
    "num_agents = len(env_info.agents)\n",
    "print('Number of agents:', num_agents)\n",
    "\n",
    "# size of each action\n",
    "action_size = brain.vector_action_space_size\n",
    "print('Size of each action:', action_size)\n",
    "\n",
    "# examine the state space \n",
    "states = env_info.vector_observations\n",
    "state_size = states.shape[1]\n",
    "print('There are {} agents. Each observes a state with length: {}'.format(states.shape[0], state_size))\n",
    "print('The state for the first agent looks like:', states[0])"
   ]
  },
  {
   "cell_type": "code",
   "execution_count": 6,
   "metadata": {},
   "outputs": [
    {
     "data": {
      "text/plain": [
       "(2, 24)"
      ]
     },
     "execution_count": 6,
     "metadata": {},
     "output_type": "execute_result"
    }
   ],
   "source": [
    "states.shape"
   ]
  },
  {
   "cell_type": "markdown",
   "metadata": {},
   "source": [
    "### 3. Take Random Actions in the Environment\n",
    "\n",
    "In the next code cell, you will learn how to use the Python API to control the agents and receive feedback from the environment.\n",
    "\n",
    "Once this cell is executed, you will watch the agents' performance, if they select actions at random with each time step.  A window should pop up that allows you to observe the agents.\n",
    "\n",
    "Of course, as part of the project, you'll have to change the code so that the agents are able to use their experiences to gradually choose better actions when interacting with the environment!"
   ]
  },
  {
   "cell_type": "code",
   "execution_count": 7,
   "metadata": {},
   "outputs": [],
   "source": [
    "# for i in range(1, 6):                                      # play game for 5 episodes\n",
    "#     env_info = env.reset(train_mode=False)[brain_name]     # reset the environment    \n",
    "#     states = env_info.vector_observations                  # get the current state (for each agent)\n",
    "#     scores = np.zeros(num_agents)                          # initialize the score (for each agent)\n",
    "#     while True:\n",
    "#         actions = np.random.randn(num_agents, action_size) # select an action (for each agent)\n",
    "#         actions = np.clip(actions, -1, 1)                  # all actions between -1 and 1\n",
    "#         env_info = env.step(actions)[brain_name]           # send all actions to tne environment\n",
    "#         next_states = env_info.vector_observations         # get next state (for each agent)\n",
    "#         rewards = env_info.rewards                         # get reward (for each agent)\n",
    "#         dones = env_info.local_done                        # see if episode finished\n",
    "#         scores += env_info.rewards                         # update the score (for each agent)\n",
    "#         states = next_states                               # roll over states to next time step\n",
    "#         if np.any(dones):                                  # exit loop if episode finished\n",
    "#             break\n",
    "#     print('Score (max over agents) from episode {}: {}'.format(i, np.max(scores)))"
   ]
  },
  {
   "cell_type": "markdown",
   "metadata": {},
   "source": [
    "When finished, you can close the environment."
   ]
  },
  {
   "cell_type": "code",
   "execution_count": 8,
   "metadata": {},
   "outputs": [],
   "source": [
    "# env.close()"
   ]
  },
  {
   "cell_type": "markdown",
   "metadata": {},
   "source": [
    "### 4. It's Your Turn!\n",
    "\n",
    "Now it's your turn to train your own agent to solve the environment!  When training the environment, set `train_mode=True`, so that the line for resetting the environment looks like the following:\n",
    "```python\n",
    "env_info = env.reset(train_mode=True)[brain_name]\n",
    "```"
   ]
  },
  {
   "cell_type": "markdown",
   "metadata": {},
   "source": [
    "### import functions"
   ]
  },
  {
   "cell_type": "code",
   "execution_count": 9,
   "metadata": {},
   "outputs": [],
   "source": [
    "import numpy as np\n",
    "import torch\n",
    "import matplotlib.pyplot as plt\n",
    "import time\n",
    "\n",
    "from unityagents import UnityEnvironment\n",
    "from collections import deque\n",
    "from itertools import count\n",
    "import datetime\n",
    "import pickle\n",
    "from agent import Agent, ReplayBuffer"
   ]
  },
  {
   "cell_type": "code",
   "execution_count": 10,
   "metadata": {},
   "outputs": [],
   "source": [
    "def maddpg(n_episodes=20000):\n",
    "    \n",
    "    agents = {\n",
    "        \"agent0\": Agent(state_size=state_size, action_size=action_size),\n",
    "        \"agent1\": Agent(state_size=state_size, action_size=action_size)\n",
    "    }\n",
    "\n",
    "    scores_deque = deque(maxlen=100) \n",
    "    scores = []\n",
    "    baseline = 0\n",
    "\n",
    "    for i_episode in range(1, n_episodes+1):\n",
    "        env_info = env.reset(train_mode=True)[brain_name]        \n",
    "        states = env_info.vector_observations                 \n",
    "        score = np.zeros(num_agents)                         \n",
    "        for agent_name, agent in agents.items():\n",
    "            agent.reset()\n",
    "        \n",
    "        while True:\n",
    "            action_list = []\n",
    "            for i, (agent_name, agent) in enumerate(agents.items()):\n",
    "                _action = agent.act(np.expand_dims(states[i], axis=0))\n",
    "                action_list.append(_action)\n",
    "            actions = np.vstack(action_list)\n",
    "            env_info = env.step(actions)[brain_name]           \n",
    "            next_states = env_info.vector_observations         \n",
    "            rewards = env_info.rewards                         \n",
    "            dones = env_info.local_done                        \n",
    "            for i, (agent_name, agent) in enumerate(agents.items()):\n",
    "                agent.step(states[i], actions[i], rewards[1], next_states[i], dones[i])\n",
    "                \n",
    "            states = next_states                               \n",
    "            score += rewards                                     \n",
    "            if np.any(dones):                                  \n",
    "                break\n",
    "        \n",
    "        scores_deque.append(np.max(score))\n",
    "        scores.append(np.max(score))\n",
    "        \n",
    "        if i_episode % 10 == 0:\n",
    "            print('\\rEpisode {}\\tAverage Score: {:.2f}'.format(i_episode, np.mean(scores_deque)), end=\"\")\n",
    "            \n",
    "        if  np.mean(scores_deque) > baseline:    \n",
    "            baseline = np.mean(scores_deque)\n",
    "            print(\"Save model\")\n",
    "            for i, (agent_name, agent) in enumerate(agents.items()):\n",
    "                torch.save(agent.actor.state_dict(), '%s actor_local.pth' % agent_name)\n",
    "                torch.save(agent.critic.state_dict(), '%s critic_local.pth' % agent_name)\n",
    "                torch.save(agent.actor_target.state_dict(), '%s actor_target.pth' % agent_name)\n",
    "                torch.save(agent.critic_target.state_dict(), '%s critic_target.pth' % agent_name)\n",
    "            \n",
    "        if baseline >= 0.5:\n",
    "            break\n",
    "            \n",
    "    return scores"
   ]
  },
  {
   "cell_type": "code",
   "execution_count": 11,
   "metadata": {},
   "outputs": [
    {
     "name": "stdout",
     "output_type": "stream",
     "text": [
      "Episode 70\tAverage Score: 0.00Save model\n",
      "Episode 150\tAverage Score: 0.00Save model\n",
      "Episode 160\tAverage Score: 0.00Save model\n",
      "Save model\n",
      "Save model\n",
      "Save model\n",
      "Save model\n",
      "Episode 170\tAverage Score: 0.01Save model\n",
      "Save model\n",
      "Episode 180\tAverage Score: 0.01Save model\n",
      "Save model\n",
      "Save model\n",
      "Episode 190\tAverage Score: 0.01Save model\n",
      "Save model\n",
      "Save model\n",
      "Episode 200\tAverage Score: 0.01Save model\n",
      "Save model\n",
      "Save model\n",
      "Episode 220\tAverage Score: 0.02Save model\n",
      "Save model\n",
      "Save model\n",
      "Save model\n",
      "Episode 230\tAverage Score: 0.02Save model\n",
      "Episode 240\tAverage Score: 0.02Save model\n",
      "Save model\n",
      "Episode 250\tAverage Score: 0.02Save model\n",
      "Save model\n",
      "Save model\n",
      "Save model\n",
      "Episode 530\tAverage Score: 0.03Save model\n",
      "Episode 590\tAverage Score: 0.03Save model\n",
      "Episode 600\tAverage Score: 0.03Save model\n",
      "Episode 1390\tAverage Score: 0.02Save model\n",
      "Save model\n",
      "Save model\n",
      "Save model\n",
      "Episode 1400\tAverage Score: 0.03Save model\n",
      "Episode 1420\tAverage Score: 0.03Save model\n",
      "Save model\n",
      "Episode 1430\tAverage Score: 0.03Save model\n",
      "Episode 1450\tAverage Score: 0.04Save model\n",
      "Save model\n",
      "Save model\n",
      "Episode 2910\tAverage Score: 0.04Save model\n",
      "Save model\n",
      "Save model\n",
      "Episode 2920\tAverage Score: 0.04Save model\n",
      "Save model\n",
      "Save model\n",
      "Save model\n",
      "Save model\n",
      "Episode 3040\tAverage Score: 0.05Save model\n",
      "Save model\n",
      "Save model\n",
      "Episode 3050\tAverage Score: 0.05Save model\n",
      "Episode 3060\tAverage Score: 0.05Save model\n",
      "Save model\n",
      "Episode 3480\tAverage Score: 0.05Save model\n",
      "Save model\n",
      "Save model\n",
      "Save model\n",
      "Save model\n",
      "Episode 3500\tAverage Score: 0.05Save model\n",
      "Save model\n",
      "Save model\n",
      "Save model\n",
      "Episode 3510\tAverage Score: 0.06Save model\n",
      "Save model\n",
      "Save model\n",
      "Save model\n",
      "Save model\n",
      "Episode 3520\tAverage Score: 0.06Save model\n",
      "Save model\n",
      "Save model\n",
      "Episode 3530\tAverage Score: 0.06Save model\n",
      "Save model\n",
      "Save model\n",
      "Episode 3540\tAverage Score: 0.07Save model\n",
      "Episode 3560\tAverage Score: 0.06Save model\n",
      "Save model\n",
      "Episode 4470\tAverage Score: 0.07Save model\n",
      "Save model\n",
      "Episode 4480\tAverage Score: 0.07Save model\n",
      "Save model\n",
      "Episode 4500\tAverage Score: 0.07Save model\n",
      "Save model\n",
      "Episode 4510\tAverage Score: 0.08Save model\n",
      "Save model\n",
      "Episode 5030\tAverage Score: 0.08Save model\n",
      "Save model\n",
      "Episode 5060\tAverage Score: 0.08Save model\n",
      "Save model\n",
      "Episode 5080\tAverage Score: 0.08Save model\n",
      "Save model\n",
      "Save model\n",
      "Save model\n",
      "Save model\n",
      "Episode 5090\tAverage Score: 0.09Save model\n",
      "Save model\n",
      "Save model\n",
      "Episode 5260\tAverage Score: 0.09Save model\n",
      "Episode 5270\tAverage Score: 0.09Save model\n",
      "Save model\n",
      "Save model\n",
      "Episode 5440\tAverage Score: 0.09Save model\n",
      "Episode 5450\tAverage Score: 0.09Save model\n",
      "Episode 5460\tAverage Score: 0.09Save model\n",
      "Save model\n",
      "Save model\n",
      "Episode 5510\tAverage Score: 0.10Save model\n",
      "Episode 5540\tAverage Score: 0.10Save model\n",
      "Episode 5550\tAverage Score: 0.10Save model\n",
      "Save model\n",
      "Save model\n",
      "Save model\n",
      "Episode 5560\tAverage Score: 0.10Save model\n",
      "Save model\n",
      "Episode 5570\tAverage Score: 0.10Save model\n",
      "Save model\n",
      "Episode 6170\tAverage Score: 0.11Save model\n",
      "Episode 6200\tAverage Score: 0.10Save model\n",
      "Save model\n",
      "Episode 6210\tAverage Score: 0.11Save model\n",
      "Save model\n",
      "Save model\n",
      "Save model\n",
      "Episode 6220\tAverage Score: 0.11Save model\n",
      "Save model\n",
      "Episode 6230\tAverage Score: 0.12Save model\n",
      "Episode 6240\tAverage Score: 0.12Save model\n",
      "Episode 6250\tAverage Score: 0.12Save model\n",
      "Episode 6270\tAverage Score: 0.12Save model\n",
      "Episode 6290\tAverage Score: 0.12Save model\n",
      "Save model\n",
      "Save model\n",
      "Save model\n",
      "Save model\n",
      "Episode 6300\tAverage Score: 0.12Save model\n",
      "Episode 6410\tAverage Score: 0.12Save model\n",
      "Save model\n",
      "Save model\n",
      "Save model\n",
      "Episode 6420\tAverage Score: 0.13Save model\n",
      "Episode 7010\tAverage Score: 0.13Save model\n",
      "Episode 7030\tAverage Score: 0.13Save model\n",
      "Episode 7040\tAverage Score: 0.13Save model\n",
      "Save model\n",
      "Save model\n",
      "Save model\n",
      "Save model\n",
      "Episode 7070\tAverage Score: 0.13Save model\n",
      "Save model\n",
      "Episode 7080\tAverage Score: 0.14Save model\n",
      "Save model\n",
      "Save model\n",
      "Episode 7090\tAverage Score: 0.15Save model\n",
      "Save model\n",
      "Save model\n",
      "Episode 7100\tAverage Score: 0.15Save model\n",
      "Save model\n",
      "Episode 7130\tAverage Score: 0.15Save model\n",
      "Save model\n",
      "Episode 7140\tAverage Score: 0.15Save model\n",
      "Save model\n",
      "Episode 7260\tAverage Score: 0.15Save model\n",
      "Save model\n",
      "Episode 7490\tAverage Score: 0.15Save model\n",
      "Save model\n",
      "Save model\n",
      "Episode 7500\tAverage Score: 0.16Save model\n",
      "Save model\n",
      "Save model\n",
      "Save model\n",
      "Save model\n",
      "Save model\n",
      "Episode 7880\tAverage Score: 0.17Save model\n",
      "Episode 7900\tAverage Score: 0.16Save model\n",
      "Episode 7910\tAverage Score: 0.17Save model\n",
      "Save model\n",
      "Episode 7920\tAverage Score: 0.17Save model\n",
      "Save model\n",
      "Episode 7930\tAverage Score: 0.18Save model\n",
      "Save model\n",
      "Save model\n",
      "Episode 7940\tAverage Score: 0.18Save model\n",
      "Save model\n",
      "Save model\n",
      "Save model\n",
      "Save model\n",
      "Save model\n",
      "Episode 7950\tAverage Score: 0.19Save model\n",
      "Episode 8250\tAverage Score: 0.19Save model\n",
      "Episode 8260\tAverage Score: 0.20Save model\n",
      "Save model\n",
      "Save model\n",
      "Save model\n",
      "Save model\n",
      "Episode 8270\tAverage Score: 0.21Save model\n",
      "Save model\n",
      "Save model\n",
      "Save model\n",
      "Episode 8280\tAverage Score: 0.21Save model\n",
      "Save model\n",
      "Save model\n",
      "Save model\n",
      "Save model\n",
      "Episode 8290\tAverage Score: 0.22Save model\n",
      "Save model\n",
      "Episode 8300\tAverage Score: 0.22Save model\n",
      "Save model\n",
      "Episode 8400\tAverage Score: 0.23Save model\n",
      "Save model\n",
      "Save model\n",
      "Save model\n",
      "Save model\n",
      "Episode 8410\tAverage Score: 0.23Save model\n",
      "Save model\n",
      "Save model\n",
      "Save model\n",
      "Save model\n",
      "Save model\n",
      "Episode 8420\tAverage Score: 0.24Save model\n",
      "Save model\n",
      "Episode 8450\tAverage Score: 0.25Save model\n",
      "Save model\n",
      "Save model\n",
      "Save model\n",
      "Episode 8460\tAverage Score: 0.26Save model\n",
      "Save model\n",
      "Episode 8510\tAverage Score: 0.26Save model\n",
      "Episode 8520\tAverage Score: 0.27Save model\n",
      "Save model\n",
      "Episode 8530\tAverage Score: 0.28Save model\n",
      "Save model\n",
      "Episode 8540\tAverage Score: 0.28Save model\n",
      "Save model\n",
      "Save model\n",
      "Save model\n",
      "Episode 8550\tAverage Score: 0.28Save model\n",
      "Save model\n",
      "Save model\n",
      "Episode 8560\tAverage Score: 0.31Save model\n",
      "Save model\n",
      "Episode 8600\tAverage Score: 0.30Save model\n",
      "Episode 8630\tAverage Score: 0.31Save model\n",
      "Save model\n",
      "Save model\n",
      "Episode 8640\tAverage Score: 0.38Save model\n",
      "Episode 8650\tAverage Score: 0.38Save model\n",
      "Episode 8670\tAverage Score: 0.37Save model\n",
      "Save model\n",
      "Episode 8700\tAverage Score: 0.37Save model\n",
      "Save model\n",
      "Save model\n",
      "Save model\n",
      "Save model\n",
      "Episode 8710\tAverage Score: 0.41Save model\n",
      "Save model\n",
      "Episode 8730\tAverage Score: 0.41Save model\n",
      "Save model\n",
      "Episode 8790\tAverage Score: 0.41Save model\n",
      "Save model\n",
      "Episode 8840\tAverage Score: 0.38Save model\n",
      "Save model\n",
      "Save model\n",
      "Episode 8850\tAverage Score: 0.44Save model\n",
      "Save model\n",
      "Save model\n",
      "Save model\n",
      "Save model\n",
      "Save model\n",
      "Save model\n",
      "Episode 8860\tAverage Score: 0.48Save model\n",
      "Save model\n"
     ]
    }
   ],
   "source": [
    "scores = maddpg()"
   ]
  },
  {
   "cell_type": "code",
   "execution_count": 12,
   "metadata": {},
   "outputs": [],
   "source": [
    "pickle.dump(scores, open(\"./scores.pkl\", \"wb\"))"
   ]
  },
  {
   "cell_type": "markdown",
   "metadata": {},
   "source": [
    "### visualize the score"
   ]
  },
  {
   "cell_type": "code",
   "execution_count": 2,
   "metadata": {},
   "outputs": [],
   "source": [
    "import pickle\n",
    "import matplotlib.pyplot as plt\n",
    "scores = pickle.load(open(\"./scores.pkl\", \"rb\"))"
   ]
  },
  {
   "cell_type": "code",
   "execution_count": 4,
   "metadata": {},
   "outputs": [
    {
     "data": {
      "text/plain": [
       "Text(0, 0.5, 'Scores')"
      ]
     },
     "execution_count": 4,
     "metadata": {},
     "output_type": "execute_result"
    },
    {
     "data": {
      "image/png": "[encoded data removed]",
      "text/plain": [
       "<Figure size 432x288 with 1 Axes>"
      ]
     },
     "metadata": {
      "needs_background": "light"
     },
     "output_type": "display_data"
    }
   ],
   "source": [
    "plt.plot(list(range(len(scores))), scores)\n",
    "plt.xlabel(\"episode\")\n",
    "plt.ylabel(\"Scores\")"
   ]
  },
  {
   "cell_type": "code",
   "execution_count": null,
   "metadata": {},
   "outputs": [],
   "source": []
  }
 ],
 "metadata": {
  "kernelspec": {
   "display_name": "Python 3",
   "language": "python",
   "name": "python3"
  },
  "language_info": {
   "codemirror_mode": {
    "name": "ipython",
    "version": 3
   },
   "file_extension": ".py",
   "mimetype": "text/x-python",
   "name": "python",
   "nbconvert_exporter": "python",
   "pygments_lexer": "ipython3",
   "version": "3.6.10"
  }
 },
 "nbformat": 4,
 "nbformat_minor": 2
}
